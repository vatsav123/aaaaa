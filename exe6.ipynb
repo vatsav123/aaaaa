{
 "cells": [
  {
   "cell_type": "code",
   "execution_count": null,
   "id": "1b12e427",
   "metadata": {},
   "outputs": [],
   "source": [
    "import pandas as pd\n"
   ]
  },
  {
   "cell_type": "code",
   "execution_count": null,
   "id": "2a6d5520",
   "metadata": {},
   "outputs": [],
   "source": [
    "data=pd.read_csv(\"Telco-Customer-Churn.csv\")"
   ]
  },
  {
   "cell_type": "code",
   "execution_count": null,
   "id": "7978eaf4",
   "metadata": {},
   "outputs": [],
   "source": [
    "x=data.drop(\"Churn\",axis=1)\n",
    "y=data[\"Churn\"]"
   ]
  },
  {
   "cell_type": "code",
   "execution_count": null,
   "id": "debbc0af",
   "metadata": {},
   "outputs": [],
   "source": [
    "x=x.dropna()\n",
    "x"
   ]
  },
  {
   "cell_type": "code",
   "execution_count": null,
   "id": "ef266574",
   "metadata": {},
   "outputs": [],
   "source": [
    "x_new=x.drop(\"customerID\",axis=1)"
   ]
  },
  {
   "cell_type": "code",
   "execution_count": null,
   "id": "15cdf878",
   "metadata": {},
   "outputs": [],
   "source": [
    "for i in x_new.columns:\n",
    "    print(i+\":\")\n",
    "    print(x_new[i].unique())\n",
    "    \n"
   ]
  },
  {
   "cell_type": "code",
   "execution_count": null,
   "id": "f5e77c0b",
   "metadata": {},
   "outputs": [],
   "source": [
    "string_columns=x_new.select_dtypes(include=['object']).columns\n",
    "string_columns=string_columns.drop('TotalCharges')"
   ]
  },
  {
   "cell_type": "code",
   "execution_count": null,
   "id": "e4eab87f",
   "metadata": {},
   "outputs": [],
   "source": [
    "x_encoded=pd.get_dummies(x_new,columns=string_columns)"
   ]
  },
  {
   "cell_type": "code",
   "execution_count": null,
   "id": "cd82a092",
   "metadata": {},
   "outputs": [],
   "source": [
    "x_encoded=x_encoded.drop(\"TotalCharges\",axis=1)"
   ]
  },
  {
   "cell_type": "code",
   "execution_count": null,
   "id": "1451d2c5",
   "metadata": {},
   "outputs": [],
   "source": [
    "from sklearn.model_selection import train_test_split\n",
    "\n",
    "x_train,x_test,y_train,y_test=train_test_split(x_encoded,y,test_size=0.2,random_state=300)"
   ]
  },
  {
   "cell_type": "code",
   "execution_count": null,
   "id": "b458d358",
   "metadata": {},
   "outputs": [],
   "source": [
    "from sklearn.svm import SVC\n",
    "from sklearn.tree import DecisionTreeClassifier\n",
    "from sklearn.ensemble import RandomForestClassifier,GradientBoostingClassifier\n",
    "from sklearn.model_selection import GridSearchCV,RandomizedSearchCV"
   ]
  },
  {
   "cell_type": "code",
   "execution_count": null,
   "id": "8ec2a673",
   "metadata": {},
   "outputs": [],
   "source": [
    "svm_params={'C':[0.1,1,10],'kernel':['linear','rbf']}\n",
    "dt_params={'max_depth':[5,10,15],'min_samples_split':[2,5,10]}\n",
    "rf_params={'n_estimators':[100,200,300],'max_depth':[None,5,10,15]}\n",
    "boost_params={'n_estimators':[100,200,300],'learning_rate':[0.01,0.1,2]}"
   ]
  },
  {
   "cell_type": "code",
   "execution_count": null,
   "id": "4f0040a8",
   "metadata": {},
   "outputs": [],
   "source": [
    "svm_model=SVC()\n",
    "dt_model=DecisionTreeClassifier()\n",
    "rf_model=RandomForestClassifier()\n",
    "boosting_model=GradientBoostingClassifier()\n"
   ]
  },
  {
   "cell_type": "code",
   "execution_count": null,
   "id": "7bdfb530",
   "metadata": {},
   "outputs": [],
   "source": [
    "svm_grid=GridSearchCV(svm_model,svm_params,cv=5)\n",
    "dt_grid=GridSearchCV(dt_model,dt_params,cv=5)\n",
    "\n",
    "rf_random = RandomizedSearchCV(rf_model, rf_params, cv=5)\n",
    "boosting_random = RandomizedSearchCV(boosting_model, boost_params, cv=5)"
   ]
  },
  {
   "cell_type": "code",
   "execution_count": null,
   "id": "bf667b33",
   "metadata": {},
   "outputs": [],
   "source": [
    "svm_grid.fit(x_train, y_train)\n",
    "\n",
    "\n",
    "\n",
    "print(\"Best Parameters for SVM:\", svm_grid.best_estimator_.get_params())\n"
   ]
  },
  {
   "cell_type": "code",
   "execution_count": null,
   "id": "88582d22",
   "metadata": {},
   "outputs": [],
   "source": [
    "dt_grid.fit(x_train, y_train)\n",
    "print(\"Best Parameters for Decision Tree:\", dt_grid.best_estimator_.get_params())\n"
   ]
  },
  {
   "cell_type": "code",
   "execution_count": null,
   "id": "4cc99311",
   "metadata": {},
   "outputs": [],
   "source": [
    "rf_grid.fit(x_train, y_train)\n",
    "\n",
    "\n",
    "\n",
    "\n",
    "print(\"Best Parameters for Random Forest:\", rf_grid.best_estimator_.get_params())\n",
    "\n"
   ]
  },
  {
   "cell_type": "code",
   "execution_count": null,
   "id": "3a110e11",
   "metadata": {},
   "outputs": [],
   "source": [
    "boosting_grid.fit(x_train, y_train)\n",
    "print(\"Best parameters for boosting gradient:\",boosting_grid.best_estimator_.get_params())"
   ]
  },
  {
   "cell_type": "code",
   "execution_count": null,
   "id": "67305cb4",
   "metadata": {},
   "outputs": [],
   "source": []
  }
 ],
 "metadata": {
  "kernelspec": {
   "display_name": "Python 3 (ipykernel)",
   "language": "python",
   "name": "python3"
  },
  "language_info": {
   "codemirror_mode": {
    "name": "ipython",
    "version": 3
   },
   "file_extension": ".py",
   "mimetype": "text/x-python",
   "name": "python",
   "nbconvert_exporter": "python",
   "pygments_lexer": "ipython3",
   "version": "3.11.4"
  }
 },
 "nbformat": 4,
 "nbformat_minor": 5
}
